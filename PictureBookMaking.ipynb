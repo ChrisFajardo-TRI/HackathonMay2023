{
 "cells": [
  {
   "cell_type": "markdown",
   "id": "56467aaa",
   "metadata": {},
   "source": [
    "# Picture book\n",
    "\n",
    "Feed story lines and use generative AI to make the corresponding illustrations"
   ]
  },
  {
   "cell_type": "markdown",
   "id": "b9225d3c",
   "metadata": {},
   "source": [
    "## Import"
   ]
  },
  {
   "cell_type": "code",
   "execution_count": null,
   "id": "65137645",
   "metadata": {},
   "outputs": [],
   "source": [
    "from IPython.display import display\n",
    "from ipywidgets import interactive\n",
    "\n",
    "from picturebook_app import DemoApp"
   ]
  },
  {
   "cell_type": "markdown",
   "id": "b8db7338",
   "metadata": {},
   "source": [
    "## Interactive Demo"
   ]
  },
  {
   "cell_type": "code",
   "execution_count": null,
   "id": "1b0418d1",
   "metadata": {
    "scrolled": false
   },
   "outputs": [],
   "source": [
    "system_template = \"\"\"You are an AI conversing with a human. The human input is a line of a story. \n",
    "Respond with a short description of a cartoon illustration that could be used to illustrate the story so far.\n",
    "\n",
    "Begin!\n",
    "----------------\"\"\"\n",
    "\n",
    "human_template = \"{question}\"\n",
    "\n",
    "image_template = \"children's cartoon: \"\n",
    "\n",
    "app = DemoApp(system_template=system_template, human_template=human_template, image_template=image_template)\n",
    "\n",
    "def process_caption(caption=''):\n",
    "    if app.sp.captions and caption == app.sp.captions[-1]:\n",
    "        return\n",
    "    app.sp.update(caption)\n",
    "    with app.out:\n",
    "        display(app.sp.cap_images[-1])\n",
    "    \n",
    "\n",
    "process_caption_button = interactive(process_caption, {\"manual\": True, \"manual_name\": \"Process Caption\"})\n",
    "display(process_caption_button, app.out)"
   ]
  },
  {
   "cell_type": "code",
   "execution_count": null,
   "id": "4cc922ce",
   "metadata": {},
   "outputs": [],
   "source": [
    "app.save()"
   ]
  },
  {
   "cell_type": "markdown",
   "id": "847b54c5",
   "metadata": {},
   "source": [
    "## Run a whole story"
   ]
  },
  {
   "cell_type": "code",
   "execution_count": null,
   "id": "3cb1bdbd",
   "metadata": {},
   "outputs": [],
   "source": [
    "one_fish_two_fish = \"\"\"\n",
    "One fish, Two fish, Red fish, Blue fish,\n",
    "Black fish, Blue fish, Old fish, New fish.\n",
    "---\n",
    "This one has a little car.\n",
    "This one has a little star.\n",
    "Say! What a lot of fish there are.\n",
    "---\n",
    "Yes. Some are red, and some are blue.\n",
    "Some are old and some are new.\n",
    "---\n",
    "Some are sad, and some are glad,\n",
    "And some are very, very bad.\n",
    "Why are they sad and glad and bad?\n",
    "I do not know, go ask your dad.\n",
    "---\n",
    "Some are thin, and some are fat.\n",
    "The fat one has a yellow hat.\n",
    "---\n",
    "From there to here,\n",
    "From here to there,\n",
    "Funny things are everywhere.\n",
    "---\n",
    "Here are some who like to run.\n",
    "They run for fun in the hot, hot sun.\n",
    "Oh me! Oh my! Oh me! oh my!\n",
    "What a lot of funny things go by.\n",
    "---\n",
    "Some have two feet and some have four.\n",
    "Some have six feet and some have more.\n",
    "Where do they come from? I can't say.\n",
    "But I bet they have come a long, long way.\n",
    "---\n",
    "we see them come, we see them go.\n",
    "Some are fast. Some are slow.\n",
    "Some are high. Some are low.\n",
    "---\n",
    "Not one of them is like another.\n",
    "Don't ask us why, go ask your mother.\n",
    "\"\"\"\n",
    "\n",
    "robots = \"\"\"\n",
    "On the ground and in the air. Robots, robots, everywhere!\n",
    "---\n",
    "Up in space, beneath the seas, robots make discoveries!\n",
    "\"\"\"\n",
    "\n",
    "brown_bear = \"\"\"\n",
    "Brown bear, brown bear, what do you see?\n",
    "I see a red bird looking at me.\n",
    "---\n",
    "Red bird, red bird, what do you see?\n",
    "I see a yellow duck looking at me.\n",
    "---\n",
    "Yellow duck, yellow duck, what do you see?\n",
    "I see a blue horse looking at me.\n",
    "---\n",
    "Blue horse, blue horse, what do you see?\n",
    "I see a green frog looking at me.\n",
    "---\n",
    "Green frog, green frog, what do you see?\n",
    "I see a purple cat looking at me.\n",
    "\"\"\""
   ]
  },
  {
   "cell_type": "code",
   "execution_count": null,
   "id": "494b618a",
   "metadata": {
    "scrolled": false
   },
   "outputs": [],
   "source": [
    "system_template = \"\"\"You are an AI conversing with a human. The human input is a line of a story. \n",
    "Respond with a short description of a cartoon illustration that could be used as an image generation prompt for stable diffusion to illustrate the story so far.\n",
    "\n",
    "Begin!\n",
    "----------------\"\"\"\n",
    "\n",
    "human_template = \"{question}\"\n",
    "\n",
    "image_template = \"children's cartoon: \"\n",
    "\n",
    "app = DemoApp(system_template=system_template, human_template=human_template, image_template=image_template)\n",
    "for verse in brown_bear.split(\"---\"):\n",
    "    app.sp.update(verse.strip())\n",
    "    display(app.sp.cap_images[-1])\n",
    "app.save()"
   ]
  },
  {
   "cell_type": "code",
   "execution_count": null,
   "id": "5ab31592",
   "metadata": {},
   "outputs": [],
   "source": []
  }
 ],
 "metadata": {
  "kernelspec": {
   "display_name": "Python 3 (ipykernel)",
   "language": "python",
   "name": "python3"
  },
  "language_info": {
   "codemirror_mode": {
    "name": "ipython",
    "version": 3
   },
   "file_extension": ".py",
   "mimetype": "text/x-python",
   "name": "python",
   "nbconvert_exporter": "python",
   "pygments_lexer": "ipython3",
   "version": "3.10.11"
  }
 },
 "nbformat": 4,
 "nbformat_minor": 5
}
