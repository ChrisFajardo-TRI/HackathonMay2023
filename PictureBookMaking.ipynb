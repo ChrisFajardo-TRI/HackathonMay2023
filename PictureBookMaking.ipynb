{
 "cells": [
  {
   "cell_type": "markdown",
   "id": "56467aaa",
   "metadata": {},
   "source": [
    "# Picture book\n",
    "\n",
    "Feed story lines and use generative AI to make the corresponding illustrations"
   ]
  },
  {
   "cell_type": "code",
   "execution_count": null,
   "id": "65137645",
   "metadata": {},
   "outputs": [],
   "source": [
    "import httpx\n",
    "import base64\n",
    "import io\n",
    "\n",
    "from langchain.memory import ConversationBufferMemory, ConversationSummaryBufferMemory\n",
    "from langchain import OpenAI, LLMChain, PromptTemplate\n",
    "\n",
    "from PIL import Image, ImageDraw, ImageFont\n",
    "from IPython.display import display\n",
    "\n",
    "import textwrap\n",
    "\n",
    "from ipywidgets import interact, interactive, fixed, interact_manual, interactive_output\n",
    "import ipywidgets as widgets"
   ]
  },
  {
   "cell_type": "code",
   "execution_count": null,
   "id": "5397641e",
   "metadata": {},
   "outputs": [],
   "source": [
    "fastchat_model = OpenAI(\n",
    "    model=\"fastchat-t5-3b-v1.0\",\n",
    "    openai_api_base=\"http://localhost:8000/v1\",\n",
    "    openai_api_key=\"EMPTY\"\n",
    ")"
   ]
  },
  {
   "cell_type": "code",
   "execution_count": null,
   "id": "1e8ea463",
   "metadata": {},
   "outputs": [],
   "source": [
    "def generate_image_desc(llm_chain, human_input):\n",
    "    image_desc = llm_chain.predict(human_input=human_input)\n",
    "    image_desc = image_desc.partition('Image: ')[2]\n",
    "    return image_desc\n",
    "\n",
    "def generate_image(human_input, image_input=None):\n",
    "    post_req = {'prompt': f\"children's cartoon: {human_input}\"}\n",
    "    if image_input:\n",
    "        b = io.BytesIO()\n",
    "        image_input.save(b, \"JPEG\")\n",
    "        post_req[\"image\"] = base64.b64encode(b.getbuffer()).decode('utf-8')\n",
    "        \n",
    "    r = httpx.post('http://localhost:8001/generate', json=post_req, timeout=60)\n",
    "    image = Image.open(io.BytesIO(base64.b64decode(r.json()[\"image_bytes_base64\"])))\n",
    "    return image\n",
    "    \n",
    "def add_text(image, text, margin=40, offset=40, fill=(255, 255, 255)):\n",
    "    im_draw = ImageDraw.Draw(image)\n",
    "    for line in textwrap.wrap(text):\n",
    "        im_draw.text((margin, offset), line, fill=fill)\n",
    "        offset += 10\n",
    "        \n",
    "    \n",
    "class StoryProcessor:\n",
    "    \n",
    "    def __init__(self, llm_chain):\n",
    "        self.llm_chain = llm_chain\n",
    "        self.images = []\n",
    "        self.captions = []\n",
    "        self.cap_images = []\n",
    "        \n",
    "    def update(self, caption):\n",
    "        print(f\"{caption=}\")\n",
    "        image_desc = generate_image_desc(self.llm_chain, caption)\n",
    "        print(f\"{image_desc=}\")\n",
    "        image = generate_image(image_desc, self.images[-1] if self.images else None)\n",
    "        cap_image = image.copy()\n",
    "        add_text(cap_image, caption, margin=40, offset=40)\n",
    "        add_text(cap_image, image_desc, margin=40, offset=100)\n",
    "        self.images.append(image)\n",
    "        self.captions.append(caption)\n",
    "        self.cap_images.append(cap_image)\n",
    "    "
   ]
  },
  {
   "cell_type": "code",
   "execution_count": null,
   "id": "7f106a12",
   "metadata": {},
   "outputs": [],
   "source": [
    "class DemoApp:\n",
    "    \n",
    "    def __init__(self):\n",
    "        self.reset()\n",
    "        \n",
    "    def reset(self):\n",
    "        template = \"\"\"\n",
    "        You are a chatbot having a conversation with a human. \n",
    "        The human is reading a children's theme story to you one section at a time.\n",
    "        Respond with a 40 to 50 word image generation prompt describing a children's cartoon.\n",
    "        Take into account previous responses.\n",
    "        Respond in the format \"Image: \"\n",
    "\n",
    "        {chat_history}\n",
    "        Human: {human_input}\n",
    "        Chatbot:\"\"\"\n",
    "\n",
    "        prompt = PromptTemplate(\n",
    "            input_variables=[\"chat_history\", \"human_input\"], \n",
    "            template=template\n",
    "        )\n",
    "        memory = ConversationBufferMemory(memory_key=\"chat_history\")\n",
    "        llm_chain = LLMChain(\n",
    "            llm=fastchat_model, \n",
    "            prompt=prompt, \n",
    "        #     verbose=True, \n",
    "            memory=memory,\n",
    "        )\n",
    "\n",
    "        self.sp = StoryProcessor(llm_chain=llm_chain)\n",
    "        \n",
    "        self.out = widgets.Output(layout={'border': '1px solid black', 'height': '480px', 'overflow': 'scroll'})\n",
    "        self.out.clear_output()\n",
    "        \n",
    "    def save(self):\n",
    "        self.sp.cap_images[0].save(\n",
    "            \"/tmp/book.pdf\", \"PDF\" ,resolution=100.0, save_all=True, append_images=self.sp.cap_images[1:]\n",
    "        )\n"
   ]
  },
  {
   "cell_type": "code",
   "execution_count": null,
   "id": "1b0418d1",
   "metadata": {
    "scrolled": false
   },
   "outputs": [],
   "source": [
    "app = DemoApp()\n",
    "app.reset()\n",
    "\n",
    "def process_caption(caption=''):\n",
    "    if app.sp.captions and caption == app.sp.captions[-1]:\n",
    "        return\n",
    "    app.sp.update(caption)\n",
    "    with app.out:\n",
    "        display(app.sp.cap_images[-1])\n",
    "    \n",
    "\n",
    "process_caption_button = interactive(process_caption, {\"manual\": True, \"manual_name\": \"Process Caption\"})\n",
    "display(process_caption_button, app.out)"
   ]
  },
  {
   "cell_type": "code",
   "execution_count": null,
   "id": "4cc922ce",
   "metadata": {},
   "outputs": [],
   "source": [
    "app.save()"
   ]
  },
  {
   "cell_type": "code",
   "execution_count": null,
   "id": "3cb1bdbd",
   "metadata": {},
   "outputs": [],
   "source": [
    "one_fish_two_fish = \"\"\"\n",
    "One fish, Two fish, Red fish, Blue fish,\n",
    "Black fish, Blue fish, Old fish, New fish.\n",
    "---\n",
    "This one has a little car.\n",
    "This one has a little star.\n",
    "Say! What a lot of fish there are.\n",
    "---\n",
    "Yes. Some are red, and some are blue.\n",
    "Some are old and some are new.\n",
    "---\n",
    "Some are sad, and some are glad,\n",
    "And some are very, very bad.\n",
    "Why are they sad and glad and bad?\n",
    "I do not know, go ask your dad.\n",
    "---\n",
    "Some are thin, and some are fat.\n",
    "The fat one has a yellow hat.\n",
    "---\n",
    "From there to here,\n",
    "From here to there,\n",
    "Funny things are everywhere.\n",
    "---\n",
    "Here are some who like to run.\n",
    "They run for fun in the hot, hot sun.\n",
    "Oh me! Oh my! Oh me! oh my!\n",
    "What a lot of funny things go by.\n",
    "---\n",
    "Some have two feet and some have four.\n",
    "Some have six feet and some have more.\n",
    "Where do they come from? I can't say.\n",
    "But I bet they have come a long, long way.\n",
    "---\n",
    "we see them come, we see them go.\n",
    "Some are fast. Some are slow.\n",
    "Some are high. Some are low.\n",
    "---\n",
    "Not one of them is like another.\n",
    "Don't ask us why, go ask your mother.\n",
    "\"\"\"\n",
    "\n",
    "robots = \"\"\"\n",
    "On the ground and in the air. Robots, robots, everywhere!\n",
    "---\n",
    "Up in space, beneath the seas, robots make discoveries!\n",
    "\"\"\"\n",
    "\n",
    "brown_bear = \"\"\"\n",
    "Brown bear, brown bear, what do you see?\n",
    "I see a red bird looking at me.\n",
    "---\n",
    "Red bird, red bird, what do you see?\n",
    "I see a yellow duck looking at me.\n",
    "---\n",
    "Yellow duck, yellow duck, what do you see?\n",
    "I see a blue horse looking at me.\n",
    "---\n",
    "Blue horse, blue horse, what do you see?\n",
    "I see a green frog looking at me.\n",
    "---\n",
    "Green frog, green frog, what do you see?\n",
    "I see a purple cat looking at me.\n",
    "\"\"\""
   ]
  },
  {
   "cell_type": "code",
   "execution_count": 34,
   "id": "494b618a",
   "metadata": {},
   "outputs": [
    {
     "data": {
      "application/vnd.jupyter.widget-view+json": {
       "model_id": "d7ccb32545a2445ea5b4f24be765246b",
       "version_major": 2,
       "version_minor": 0
      },
      "text/plain": [
       "Output(layout=Layout(border_bottom='1px solid black', border_left='1px solid black', border_right='1px solid b…"
      ]
     },
     "metadata": {},
     "output_type": "display_data"
    },
    {
     "name": "stdout",
     "output_type": "stream",
     "text": [
      "caption='\\nBrown bear, brown bear, what do you see?\\nI see a red bird looking at me.\\n'\n",
      "image_desc='A brown bear sitting by a tree under a tree with a red bird perched on a branch looking at the bear.\\n'\n",
      "caption='\\nRed bird, red bird, what do you see?\\nI see a yellow duck looking at me.\\n'\n",
      "image_desc='A group of friends, including a red bird, a blue bird, and a yellow duck, sitting on a log in a pond with a red bird perched on a branch looking at them.\\n'\n",
      "caption='\\nYellow duck, yellow duck, what do you see?\\nI see a blue horse looking at me.\\n'\n",
      "image_desc='A blue horse and a yellow duck standing next to each other in a crowded field with a group of kids playing on the ground nearby.\\n'\n",
      "caption='\\nBlue horse, blue horse, what do you see?\\nI see a green frog looking at me.\\n'\n",
      "image_desc='A group of characters, including a blue horse, a yellow duck, and a green frog, standing next to each other in a crowded field with a group of kids playing on the ground nearby.\\n'\n",
      "caption='\\nGreen frog, green frog, what do you see?\\nI see a purple cat looking at me.\\n'\n",
      "image_desc='A purple cat sitting on a tree branch in a forest, looking at a group of mice hopping around on grass.\\n'\n"
     ]
    }
   ],
   "source": [
    "app = DemoApp()\n",
    "app.reset()\n",
    "display(app.out)\n",
    "for verse in brown_bear.split(\"---\"):\n",
    "    app.sp.update(verse)\n",
    "    with app.out:\n",
    "        display(app.sp.cap_images[-1])\n",
    "app.save()"
   ]
  },
  {
   "cell_type": "code",
   "execution_count": null,
   "id": "3a065ffe",
   "metadata": {},
   "outputs": [],
   "source": []
  }
 ],
 "metadata": {
  "kernelspec": {
   "display_name": "Python 3 (ipykernel)",
   "language": "python",
   "name": "python3"
  },
  "language_info": {
   "codemirror_mode": {
    "name": "ipython",
    "version": 3
   },
   "file_extension": ".py",
   "mimetype": "text/x-python",
   "name": "python",
   "nbconvert_exporter": "python",
   "pygments_lexer": "ipython3",
   "version": "3.10.6"
  }
 },
 "nbformat": 4,
 "nbformat_minor": 5
}
