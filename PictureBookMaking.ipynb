{
 "cells": [
  {
   "attachments": {},
   "cell_type": "markdown",
   "id": "56467aaa",
   "metadata": {},
   "source": [
    "# Picture book\n",
    "\n",
    "Feed story lines and use generative AI to make the corresponding illustrations"
   ]
  },
  {
   "cell_type": "code",
   "execution_count": 1,
   "id": "65137645",
   "metadata": {},
   "outputs": [],
   "source": [
    "import httpx\n",
    "import base64\n",
    "import io\n",
    "\n",
    "from langchain.memory import ConversationBufferMemory, ConversationSummaryBufferMemory\n",
    "from langchain import OpenAI, LLMChain, PromptTemplate\n",
    "\n",
    "from PIL import Image, ImageDraw, ImageFont\n",
    "from IPython.display import display\n",
    "\n",
    "import textwrap\n",
    "\n",
    "from ipywidgets import interact, interactive, fixed, interact_manual, interactive_output\n",
    "import ipywidgets as widgets"
   ]
  },
  {
   "cell_type": "code",
   "execution_count": 2,
   "id": "5397641e",
   "metadata": {},
   "outputs": [],
   "source": [
    "fastchat_model = OpenAI(\n",
    "    model=\"fastchat-t5-3b-v1.0\",\n",
    "    openai_api_base=\"http://localhost:8000/v1\",\n",
    "    openai_api_key=\"EMPTY\"\n",
    ")"
   ]
  },
  {
   "cell_type": "code",
   "execution_count": 3,
   "id": "1e8ea463",
   "metadata": {},
   "outputs": [],
   "source": [
    "def generate_image_desc(llm_chain, human_input):\n",
    "    image_desc = llm_chain.predict(human_input=human_input)\n",
    "    image_desc = image_desc.partition('Image: ')[2]\n",
    "    return image_desc\n",
    "\n",
    "def generate_image(human_input, image_input=None):\n",
    "    post_req = {'prompt': human_input}\n",
    "    if image_input:\n",
    "        b = io.BytesIO()\n",
    "        image_input.save(b, \"JPEG\")\n",
    "        post_req[\"image\"] = base64.b64encode(b.getbuffer()).decode('utf-8')\n",
    "        \n",
    "    r = httpx.post('http://localhost:8001/generate', json=post_req, timeout=60)\n",
    "    image = Image.open(io.BytesIO(base64.b64decode(r.json()[\"image_bytes_base64\"])))\n",
    "    return image\n",
    "    \n",
    "def add_text(image, text, margin=40, offset=40, fill=(255, 255, 255)):\n",
    "    im_draw = ImageDraw.Draw(image)\n",
    "    for line in textwrap.wrap(text):\n",
    "        im_draw.text((margin, offset), line, fill=fill)\n",
    "        offset += 10\n",
    "        \n",
    "    \n",
    "class StoryProcessor:\n",
    "    \n",
    "    def __init__(self, llm_chain):\n",
    "        self.llm_chain = llm_chain\n",
    "        self.images = []\n",
    "        self.captions = []\n",
    "        self.cap_images = []\n",
    "        \n",
    "    def update(self, caption):\n",
    "        print(f\"{caption=}\")\n",
    "        image_desc = generate_image_desc(self.llm_chain, caption)\n",
    "        print(f\"{image_desc=}\")\n",
    "        image = generate_image(image_desc, self.images[-1] if self.images else None)\n",
    "        cap_image = image.copy()\n",
    "        add_text(cap_image, caption, margin=40, offset=40)\n",
    "        add_text(cap_image, image_desc, margin=40, offset=100)\n",
    "        self.images.append(image)\n",
    "        self.captions.append(caption)\n",
    "        self.cap_images.append(cap_image)\n",
    "    "
   ]
  },
  {
   "cell_type": "code",
   "execution_count": 11,
   "id": "7f106a12",
   "metadata": {},
   "outputs": [],
   "source": [
    "class DemoApp:\n",
    "    \n",
    "    def __init__(self):\n",
    "        self.reset()\n",
    "        \n",
    "    def reset(self):\n",
    "        template = \"\"\"\n",
    "        You are a chatbot having a conversation with a human. \n",
    "        The human is reading a children's theme story to you one section at a time.\n",
    "        Respond with a 40 to 50 word scene description matching the story so far.\n",
    "        Respond in the format \"Image: \"\n",
    "\n",
    "        {chat_history}\n",
    "        Human: {human_input}\n",
    "        Chatbot:\"\"\"\n",
    "\n",
    "        prompt = PromptTemplate(\n",
    "            input_variables=[\"chat_history\", \"human_input\"], \n",
    "            template=template\n",
    "        )\n",
    "        memory = ConversationBufferMemory(memory_key=\"chat_history\")\n",
    "        llm_chain = LLMChain(\n",
    "            llm=fastchat_model, \n",
    "            prompt=prompt, \n",
    "        #     verbose=True, \n",
    "            memory=memory,\n",
    "        )\n",
    "\n",
    "        self.sp = StoryProcessor(llm_chain=llm_chain)\n",
    "        \n",
    "        self.out = widgets.Output(layout={'border': '1px solid black', 'height': '480px', 'overflow': 'scroll'})\n",
    "        self.out.clear_output()\n"
   ]
  },
  {
   "cell_type": "code",
   "execution_count": 15,
   "id": "1b0418d1",
   "metadata": {
    "scrolled": false
   },
   "outputs": [
    {
     "data": {
      "application/vnd.jupyter.widget-view+json": {
       "model_id": "92e5aa40c8974827a56b1a69220d35c8",
       "version_major": 2,
       "version_minor": 0
      },
      "text/plain": [
       "interactive(children=(Text(value='', continuous_update=False, description='caption'), Button(description='Proc…"
      ]
     },
     "metadata": {},
     "output_type": "display_data"
    },
    {
     "data": {
      "application/vnd.jupyter.widget-view+json": {
       "model_id": "138b5fc050774ecab377fc18dd199a30",
       "version_major": 2,
       "version_minor": 0
      },
      "text/plain": [
       "Output(layout=Layout(border_bottom='1px solid black', border_left='1px solid black', border_right='1px solid b…"
      ]
     },
     "metadata": {},
     "output_type": "display_data"
    }
   ],
   "source": [
    "app = DemoApp()\n",
    "app.reset()\n",
    "\n",
    "def process_caption(caption=''):\n",
    "    if app.sp.captions and caption == app.sp.captions[-1]:\n",
    "        return\n",
    "    app.sp.update(caption)\n",
    "    with app.out:\n",
    "        display(app.sp.cap_images[-1])\n",
    "    \n",
    "\n",
    "process_caption_button = interactive(process_caption, {\"manual\": True, \"manual_name\": \"Process Caption\"})\n",
    "display(process_caption_button, app.out)"
   ]
  },
  {
   "cell_type": "code",
   "execution_count": null,
   "id": "4cc922ce",
   "metadata": {},
   "outputs": [],
   "source": [
    "app.sp.cap_images[0].save(\n",
    "    \"/tmp/book.pdf\", \"PDF\" ,resolution=100.0, save_all=True, append_images=app.sp.cap_images[1:]\n",
    ")"
   ]
  },
  {
   "cell_type": "code",
   "execution_count": null,
   "id": "3cb1bdbd",
   "metadata": {},
   "outputs": [],
   "source": [
    "story = \"\"\"\n",
    "One fish, Two fish, Red fish, Blue fish,\n",
    "Black fish, Blue fish, Old fish, New fish.\n",
    "---\n",
    "This one has a little car.\n",
    "This one has a little star.\n",
    "Say! What a lot of fish there are.\n",
    "---\n",
    "Yes. Some are red, and some are blue.\n",
    "Some are old and some are new.\n",
    "---\n",
    "Some are sad, and some are glad,\n",
    "And some are very, very bad.\n",
    "Why are they sad and glad and bad?\n",
    "I do not know, go ask your dad.\n",
    "---\n",
    "Some are thin, and some are fat.\n",
    "The fat one has a yellow hat.\n",
    "---\n",
    "From there to here,\n",
    "From here to there,\n",
    "Funny things are everywhere.\n",
    "---\n",
    "Here are some who like to run.\n",
    "They run for fun in the hot, hot sun.\n",
    "Oh me! Oh my! Oh me! oh my!\n",
    "What a lot of funny things go by.\n",
    "---\n",
    "Some have two feet and some have four.\n",
    "Some have six feet and some have more.\n",
    "Where do they come from? I can't say.\n",
    "But I bet they have come a long, long way.\n",
    "---\n",
    "we see them come, we see them go.\n",
    "Some are fast. Some are slow.\n",
    "Some are high. Some are low.\n",
    "---\n",
    "Not one of them is like another.\n",
    "Don't ask us why, go ask your mother.\n",
    "\"\"\""
   ]
  },
  {
   "cell_type": "code",
   "execution_count": null,
   "id": "9d40c46f",
   "metadata": {
    "scrolled": false
   },
   "outputs": [],
   "source": [
    "app.reset()\n",
    "for verse in story.split(\"---\"):\n",
    "    app.sp.update(verse)\n",
    "    display(app.sp.images[-1])"
   ]
  },
  {
   "cell_type": "code",
   "execution_count": null,
   "id": "494b618a",
   "metadata": {},
   "outputs": [],
   "source": []
  }
 ],
 "metadata": {
  "kernelspec": {
   "display_name": "Python 3 (ipykernel)",
   "language": "python",
   "name": "python3"
  },
  "language_info": {
   "codemirror_mode": {
    "name": "ipython",
    "version": 3
   },
   "file_extension": ".py",
   "mimetype": "text/x-python",
   "name": "python",
   "nbconvert_exporter": "python",
   "pygments_lexer": "ipython3",
   "version": "3.10.6"
  }
 },
 "nbformat": 4,
 "nbformat_minor": 5
}
